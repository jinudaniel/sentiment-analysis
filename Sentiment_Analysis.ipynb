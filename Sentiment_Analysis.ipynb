{
 "cells": [
  {
   "cell_type": "markdown",
   "metadata": {},
   "source": [
    "## US Airlines Tweets Sentiment Analysis."
   ]
  },
  {
   "cell_type": "markdown",
   "metadata": {},
   "source": [
    "Sentiment Analysis is the process of determining whether a piece of writing is positive, negative or neutral. It’s also known as opinion mining, deriving the opinion or attitude of a speaker. A common use case for this technology is to discover how people feel about a particular topic.\n",
    "In this notebook we will analyze how US Air Travellers expressed their feeling about US Airlines through Twitter in February 2015 by analyzing a series of Tweets."
   ]
  },
  {
   "cell_type": "markdown",
   "metadata": {},
   "source": [
    "### Importing Data"
   ]
  },
  {
   "cell_type": "code",
   "execution_count": 1,
   "metadata": {},
   "outputs": [],
   "source": [
    "import pandas as pd\n",
    "import numpy as np\n",
    "import re\n",
    "import collections"
   ]
  },
  {
   "cell_type": "code",
   "execution_count": 2,
   "metadata": {},
   "outputs": [],
   "source": [
    "NB_WORDS = 10000  # Parameter indicating the number of words we'll put in the dictionary\n",
    "VAL_SIZE = 1000  # Size of the validation set\n",
    "EPOCHS = 20  # Number of epochs we usually start to train with\n",
    "BATCH_SIZE = 512  # Size of the batches used in the mini-batch gradient descent"
   ]
  },
  {
   "cell_type": "markdown",
   "metadata": {},
   "source": [
    "The data can be downloaded from Kaggle using this [link](https://www.kaggle.com/crowdflower/twitter-airline-sentiment)"
   ]
  },
  {
   "cell_type": "code",
   "execution_count": 3,
   "metadata": {},
   "outputs": [
    {
     "data": {
      "text/html": [
       "<div>\n",
       "<style scoped>\n",
       "    .dataframe tbody tr th:only-of-type {\n",
       "        vertical-align: middle;\n",
       "    }\n",
       "\n",
       "    .dataframe tbody tr th {\n",
       "        vertical-align: top;\n",
       "    }\n",
       "\n",
       "    .dataframe thead th {\n",
       "        text-align: right;\n",
       "    }\n",
       "</style>\n",
       "<table border=\"1\" class=\"dataframe\">\n",
       "  <thead>\n",
       "    <tr style=\"text-align: right;\">\n",
       "      <th></th>\n",
       "      <th>tweet_id</th>\n",
       "      <th>airline_sentiment</th>\n",
       "      <th>airline_sentiment_confidence</th>\n",
       "      <th>negativereason</th>\n",
       "      <th>negativereason_confidence</th>\n",
       "      <th>airline</th>\n",
       "      <th>airline_sentiment_gold</th>\n",
       "      <th>name</th>\n",
       "      <th>negativereason_gold</th>\n",
       "      <th>retweet_count</th>\n",
       "      <th>text</th>\n",
       "      <th>tweet_coord</th>\n",
       "      <th>tweet_created</th>\n",
       "      <th>tweet_location</th>\n",
       "      <th>user_timezone</th>\n",
       "    </tr>\n",
       "  </thead>\n",
       "  <tbody>\n",
       "    <tr>\n",
       "      <th>0</th>\n",
       "      <td>570306133677760513</td>\n",
       "      <td>neutral</td>\n",
       "      <td>1.0000</td>\n",
       "      <td>NaN</td>\n",
       "      <td>NaN</td>\n",
       "      <td>Virgin America</td>\n",
       "      <td>NaN</td>\n",
       "      <td>cairdin</td>\n",
       "      <td>NaN</td>\n",
       "      <td>0</td>\n",
       "      <td>@VirginAmerica What @dhepburn said.</td>\n",
       "      <td>NaN</td>\n",
       "      <td>2015-02-24 11:35:52 -0800</td>\n",
       "      <td>NaN</td>\n",
       "      <td>Eastern Time (US &amp; Canada)</td>\n",
       "    </tr>\n",
       "    <tr>\n",
       "      <th>1</th>\n",
       "      <td>570301130888122368</td>\n",
       "      <td>positive</td>\n",
       "      <td>0.3486</td>\n",
       "      <td>NaN</td>\n",
       "      <td>0.0000</td>\n",
       "      <td>Virgin America</td>\n",
       "      <td>NaN</td>\n",
       "      <td>jnardino</td>\n",
       "      <td>NaN</td>\n",
       "      <td>0</td>\n",
       "      <td>@VirginAmerica plus you've added commercials t...</td>\n",
       "      <td>NaN</td>\n",
       "      <td>2015-02-24 11:15:59 -0800</td>\n",
       "      <td>NaN</td>\n",
       "      <td>Pacific Time (US &amp; Canada)</td>\n",
       "    </tr>\n",
       "    <tr>\n",
       "      <th>2</th>\n",
       "      <td>570301083672813571</td>\n",
       "      <td>neutral</td>\n",
       "      <td>0.6837</td>\n",
       "      <td>NaN</td>\n",
       "      <td>NaN</td>\n",
       "      <td>Virgin America</td>\n",
       "      <td>NaN</td>\n",
       "      <td>yvonnalynn</td>\n",
       "      <td>NaN</td>\n",
       "      <td>0</td>\n",
       "      <td>@VirginAmerica I didn't today... Must mean I n...</td>\n",
       "      <td>NaN</td>\n",
       "      <td>2015-02-24 11:15:48 -0800</td>\n",
       "      <td>Lets Play</td>\n",
       "      <td>Central Time (US &amp; Canada)</td>\n",
       "    </tr>\n",
       "    <tr>\n",
       "      <th>3</th>\n",
       "      <td>570301031407624196</td>\n",
       "      <td>negative</td>\n",
       "      <td>1.0000</td>\n",
       "      <td>Bad Flight</td>\n",
       "      <td>0.7033</td>\n",
       "      <td>Virgin America</td>\n",
       "      <td>NaN</td>\n",
       "      <td>jnardino</td>\n",
       "      <td>NaN</td>\n",
       "      <td>0</td>\n",
       "      <td>@VirginAmerica it's really aggressive to blast...</td>\n",
       "      <td>NaN</td>\n",
       "      <td>2015-02-24 11:15:36 -0800</td>\n",
       "      <td>NaN</td>\n",
       "      <td>Pacific Time (US &amp; Canada)</td>\n",
       "    </tr>\n",
       "    <tr>\n",
       "      <th>4</th>\n",
       "      <td>570300817074462722</td>\n",
       "      <td>negative</td>\n",
       "      <td>1.0000</td>\n",
       "      <td>Can't Tell</td>\n",
       "      <td>1.0000</td>\n",
       "      <td>Virgin America</td>\n",
       "      <td>NaN</td>\n",
       "      <td>jnardino</td>\n",
       "      <td>NaN</td>\n",
       "      <td>0</td>\n",
       "      <td>@VirginAmerica and it's a really big bad thing...</td>\n",
       "      <td>NaN</td>\n",
       "      <td>2015-02-24 11:14:45 -0800</td>\n",
       "      <td>NaN</td>\n",
       "      <td>Pacific Time (US &amp; Canada)</td>\n",
       "    </tr>\n",
       "  </tbody>\n",
       "</table>\n",
       "</div>"
      ],
      "text/plain": [
       "             tweet_id airline_sentiment  airline_sentiment_confidence  \\\n",
       "0  570306133677760513           neutral                        1.0000   \n",
       "1  570301130888122368          positive                        0.3486   \n",
       "2  570301083672813571           neutral                        0.6837   \n",
       "3  570301031407624196          negative                        1.0000   \n",
       "4  570300817074462722          negative                        1.0000   \n",
       "\n",
       "  negativereason  negativereason_confidence         airline  \\\n",
       "0            NaN                        NaN  Virgin America   \n",
       "1            NaN                     0.0000  Virgin America   \n",
       "2            NaN                        NaN  Virgin America   \n",
       "3     Bad Flight                     0.7033  Virgin America   \n",
       "4     Can't Tell                     1.0000  Virgin America   \n",
       "\n",
       "  airline_sentiment_gold        name negativereason_gold  retweet_count  \\\n",
       "0                    NaN     cairdin                 NaN              0   \n",
       "1                    NaN    jnardino                 NaN              0   \n",
       "2                    NaN  yvonnalynn                 NaN              0   \n",
       "3                    NaN    jnardino                 NaN              0   \n",
       "4                    NaN    jnardino                 NaN              0   \n",
       "\n",
       "                                                text tweet_coord  \\\n",
       "0                @VirginAmerica What @dhepburn said.         NaN   \n",
       "1  @VirginAmerica plus you've added commercials t...         NaN   \n",
       "2  @VirginAmerica I didn't today... Must mean I n...         NaN   \n",
       "3  @VirginAmerica it's really aggressive to blast...         NaN   \n",
       "4  @VirginAmerica and it's a really big bad thing...         NaN   \n",
       "\n",
       "               tweet_created tweet_location               user_timezone  \n",
       "0  2015-02-24 11:35:52 -0800            NaN  Eastern Time (US & Canada)  \n",
       "1  2015-02-24 11:15:59 -0800            NaN  Pacific Time (US & Canada)  \n",
       "2  2015-02-24 11:15:48 -0800      Lets Play  Central Time (US & Canada)  \n",
       "3  2015-02-24 11:15:36 -0800            NaN  Pacific Time (US & Canada)  \n",
       "4  2015-02-24 11:14:45 -0800            NaN  Pacific Time (US & Canada)  "
      ]
     },
     "execution_count": 3,
     "metadata": {},
     "output_type": "execute_result"
    }
   ],
   "source": [
    "df = pd.read_csv('Tweets.csv')\n",
    "df.head()"
   ]
  },
  {
   "cell_type": "markdown",
   "metadata": {},
   "source": [
    "Since we are dealing with Sentiment analysis, we are only concerned with the Tweets and the corresponding labels"
   ]
  },
  {
   "cell_type": "code",
   "execution_count": 4,
   "metadata": {},
   "outputs": [
    {
     "data": {
      "text/html": [
       "<div>\n",
       "<style scoped>\n",
       "    .dataframe tbody tr th:only-of-type {\n",
       "        vertical-align: middle;\n",
       "    }\n",
       "\n",
       "    .dataframe tbody tr th {\n",
       "        vertical-align: top;\n",
       "    }\n",
       "\n",
       "    .dataframe thead th {\n",
       "        text-align: right;\n",
       "    }\n",
       "</style>\n",
       "<table border=\"1\" class=\"dataframe\">\n",
       "  <thead>\n",
       "    <tr style=\"text-align: right;\">\n",
       "      <th></th>\n",
       "      <th>text</th>\n",
       "      <th>airline_sentiment</th>\n",
       "    </tr>\n",
       "  </thead>\n",
       "  <tbody>\n",
       "    <tr>\n",
       "      <th>12167</th>\n",
       "      <td>@AmericanAir I'm frustrated by all of the @USA...</td>\n",
       "      <td>negative</td>\n",
       "    </tr>\n",
       "    <tr>\n",
       "      <th>7285</th>\n",
       "      <td>@JetBlue you just tight that you're #59 on the...</td>\n",
       "      <td>neutral</td>\n",
       "    </tr>\n",
       "    <tr>\n",
       "      <th>10798</th>\n",
       "      <td>@USAirways another squashed flight. Having to ...</td>\n",
       "      <td>negative</td>\n",
       "    </tr>\n",
       "    <tr>\n",
       "      <th>9319</th>\n",
       "      <td>@USAirways do you operate ANY flights without ...</td>\n",
       "      <td>negative</td>\n",
       "    </tr>\n",
       "    <tr>\n",
       "      <th>1412</th>\n",
       "      <td>@united  bags left behind because plane overwe...</td>\n",
       "      <td>negative</td>\n",
       "    </tr>\n",
       "  </tbody>\n",
       "</table>\n",
       "</div>"
      ],
      "text/plain": [
       "                                                    text airline_sentiment\n",
       "12167  @AmericanAir I'm frustrated by all of the @USA...          negative\n",
       "7285   @JetBlue you just tight that you're #59 on the...           neutral\n",
       "10798  @USAirways another squashed flight. Having to ...          negative\n",
       "9319   @USAirways do you operate ANY flights without ...          negative\n",
       "1412   @united  bags left behind because plane overwe...          negative"
      ]
     },
     "execution_count": 4,
     "metadata": {},
     "output_type": "execute_result"
    }
   ],
   "source": [
    "df = df.reindex(np.random.permutation(df.index))  \n",
    "df = df[['text', 'airline_sentiment']]\n",
    "df.head()"
   ]
  },
  {
   "cell_type": "code",
   "execution_count": 5,
   "metadata": {},
   "outputs": [],
   "source": [
    "import matplotlib.pyplot as plt\n",
    "import seaborn as sns\n",
    "from nltk.corpus import stopwords"
   ]
  },
  {
   "cell_type": "code",
   "execution_count": 6,
   "metadata": {},
   "outputs": [
    {
     "data": {
      "text/plain": [
       "<matplotlib.axes._subplots.AxesSubplot at 0x7f03f18eec88>"
      ]
     },
     "execution_count": 6,
     "metadata": {},
     "output_type": "execute_result"
    },
    {
     "data": {
      "image/png": "[encoded data removed]",
      "text/plain": [
       "<Figure size 432x288 with 1 Axes>"
      ]
     },
     "metadata": {},
     "output_type": "display_data"
    }
   ],
   "source": [
    "sns.countplot(x='airline_sentiment', data=df)"
   ]
  },
  {
   "cell_type": "markdown",
   "metadata": {},
   "source": [
    "Run this step only if you don't have the stopwords downloaded from the nltk corpus"
   ]
  },
  {
   "cell_type": "code",
   "execution_count": 12,
   "metadata": {},
   "outputs": [
    {
     "name": "stdout",
     "output_type": "stream",
     "text": [
      "[nltk_data] Downloading package stopwords to\n",
      "[nltk_data]     /home/jinudaniel74/nltk_data...\n",
      "[nltk_data]   Unzipping corpora/stopwords.zip.\n"
     ]
    },
    {
     "data": {
      "text/plain": [
       "True"
      ]
     },
     "execution_count": 12,
     "metadata": {},
     "output_type": "execute_result"
    }
   ],
   "source": [
    "#import nltk\n",
    "#nltk.download('stopwords')"
   ]
  },
  {
   "cell_type": "markdown",
   "metadata": {},
   "source": [
    "### Data Pre Processing"
   ]
  },
  {
   "cell_type": "markdown",
   "metadata": {},
   "source": [
    "A stop word is a commonly used word (such as “the”, “a”, “an”, “in”) that a search engine has been programmed to ignore, both when indexing entries for searching and when retrieving them as the result of a search query. So in our tweets analysis we want to remove these stop words as these dont provide any meaningful insights to the feelings of the user.\n",
    "We also want to get rid of the mentions."
   ]
  },
  {
   "cell_type": "code",
   "execution_count": 7,
   "metadata": {},
   "outputs": [
    {
     "data": {
      "text/html": [
       "<div>\n",
       "<style scoped>\n",
       "    .dataframe tbody tr th:only-of-type {\n",
       "        vertical-align: middle;\n",
       "    }\n",
       "\n",
       "    .dataframe tbody tr th {\n",
       "        vertical-align: top;\n",
       "    }\n",
       "\n",
       "    .dataframe thead th {\n",
       "        text-align: right;\n",
       "    }\n",
       "</style>\n",
       "<table border=\"1\" class=\"dataframe\">\n",
       "  <thead>\n",
       "    <tr style=\"text-align: right;\">\n",
       "      <th></th>\n",
       "      <th>text</th>\n",
       "      <th>airline_sentiment</th>\n",
       "    </tr>\n",
       "  </thead>\n",
       "  <tbody>\n",
       "    <tr>\n",
       "      <th>12167</th>\n",
       "      <td>I'm frustrated  attitude toward #ExecPlat mem...</td>\n",
       "      <td>negative</td>\n",
       "    </tr>\n",
       "    <tr>\n",
       "      <th>7285</th>\n",
       "      <td>tight #59 world's best airlines list &amp;amp;  r...</td>\n",
       "      <td>neutral</td>\n",
       "    </tr>\n",
       "    <tr>\n",
       "      <th>10798</th>\n",
       "      <td>another squashed flight. Having share seat an...</td>\n",
       "      <td>negative</td>\n",
       "    </tr>\n",
       "    <tr>\n",
       "      <th>9319</th>\n",
       "      <td>operate ANY flights without maintenance issue...</td>\n",
       "      <td>negative</td>\n",
       "    </tr>\n",
       "    <tr>\n",
       "      <th>1412</th>\n",
       "      <td>bags left behind plane overweight, great knew...</td>\n",
       "      <td>negative</td>\n",
       "    </tr>\n",
       "  </tbody>\n",
       "</table>\n",
       "</div>"
      ],
      "text/plain": [
       "                                                    text airline_sentiment\n",
       "12167   I'm frustrated  attitude toward #ExecPlat mem...          negative\n",
       "7285    tight #59 world's best airlines list &amp;  r...           neutral\n",
       "10798   another squashed flight. Having share seat an...          negative\n",
       "9319    operate ANY flights without maintenance issue...          negative\n",
       "1412    bags left behind plane overweight, great knew...          negative"
      ]
     },
     "execution_count": 7,
     "metadata": {},
     "output_type": "execute_result"
    }
   ],
   "source": [
    "def remove_stopwords(input_text):\n",
    "        stopwords_list = stopwords.words('english')\n",
    "        # Some words which might indicate a certain sentiment are kept via a whitelist\n",
    "        whitelist = [\"n't\", \"not\", \"no\"]\n",
    "        words = input_text.split() \n",
    "        clean_words = [word for word in words if (word not in stopwords_list or word in whitelist) and len(word) > 1] \n",
    "        return \" \".join(clean_words) \n",
    "    \n",
    "def remove_mentions(input_text):\n",
    "        return re.sub(r'@\\w+', '', input_text)\n",
    "       \n",
    "df.text = df.text.apply(remove_stopwords).apply(remove_mentions)\n",
    "df.head()"
   ]
  },
  {
   "cell_type": "code",
   "execution_count": 8,
   "metadata": {},
   "outputs": [
    {
     "name": "stderr",
     "output_type": "stream",
     "text": [
      "/home/jinudaniel74/.local/lib/python3.5/site-packages/h5py/__init__.py:36: FutureWarning: Conversion of the second argument of issubdtype from `float` to `np.floating` is deprecated. In future, it will be treated as `np.float64 == np.dtype(float).type`.\n",
      "  from ._conv import register_converters as _register_converters\n",
      "Using TensorFlow backend.\n"
     ]
    }
   ],
   "source": [
    "from sklearn.model_selection import train_test_split\n",
    "from keras.preprocessing.text import Tokenizer\n",
    "from keras.utils.np_utils import to_categorical\n",
    "from sklearn.preprocessing import LabelEncoder"
   ]
  },
  {
   "cell_type": "code",
   "execution_count": 9,
   "metadata": {},
   "outputs": [
    {
     "name": "stdout",
     "output_type": "stream",
     "text": [
      "Training Data: 13176\n",
      "Test Data: 1464\n"
     ]
    }
   ],
   "source": [
    "X_train, X_test, y_train, y_test = train_test_split(df.text, df.airline_sentiment, test_size=0.1, random_state=37)\n",
    "print('Training Data:', X_train.shape[0])\n",
    "print('Test Data:', X_test.shape[0])"
   ]
  },
  {
   "cell_type": "markdown",
   "metadata": {},
   "source": [
    "Given a character sequence and a defined document unit, tokenization is the task of chopping it up into pieces, called tokens , perhaps at the same time throwing away certain characters, such as punctuation. \n",
    "So if we have an input word \"Countrymen, lend me your ears\" so after tokenization we get the following output.\n",
    "`['Countrymen',['lend'],['your'],['ears']]`\n",
    "Keras has an method `Tokenizer` which will help meet our requirement."
   ]
  },
  {
   "cell_type": "code",
   "execution_count": 10,
   "metadata": {},
   "outputs": [
    {
     "name": "stdout",
     "output_type": "stream",
     "text": [
      "Top 5 most common words are: [('flight', 3531), ('not', 1404), ('no', 1336), ('get', 1184), ('t', 1111)]\n"
     ]
    }
   ],
   "source": [
    "tk = Tokenizer(num_words=NB_WORDS,\n",
    "               filters='!\"#$%&()*+,-./:;<=>?@[\\\\]^_`{|}~\\t\\n',\n",
    "               lower=True,\n",
    "               split=\" \")\n",
    "tk.fit_on_texts(X_train)\n",
    "print('Top 5 most common words are:', collections.Counter(tk.word_counts).most_common(5))"
   ]
  },
  {
   "cell_type": "code",
   "execution_count": 15,
   "metadata": {},
   "outputs": [
    {
     "name": "stdout",
     "output_type": "stream",
     "text": [
      "Found 13974 unique tokens.\n"
     ]
    }
   ],
   "source": [
    "word_index = tk.word_index\n",
    "print('Found %s unique tokens.' % len(word_index))"
   ]
  },
  {
   "cell_type": "markdown",
   "metadata": {},
   "source": [
    "After having created the dictionary we can convert the text to a list of integer indexes. This is done with the `text_to_sequences` method of the Tokenizer."
   ]
  },
  {
   "cell_type": "code",
   "execution_count": 16,
   "metadata": {},
   "outputs": [],
   "source": [
    "X_train_seq = tk.texts_to_sequences(X_train)\n",
    "X_test_seq = tk.texts_to_sequences(X_test)"
   ]
  },
  {
   "cell_type": "code",
   "execution_count": 17,
   "metadata": {},
   "outputs": [
    {
     "name": "stdout",
     "output_type": "stream",
     "text": [
      " seriously would pay $30 flight seats playing. really bad thing flying VA -- is converted to -- [286, 87, 2, 2910, 861, 1110, 16, 406, 35, 1, 2911, 4287, 4288, 4289, 2554, 376, 6054]\n"
     ]
    }
   ],
   "source": [
    "print('{} -- is converted to -- {}'.format(X_train[5], X_train_seq[5]))"
   ]
  },
  {
   "cell_type": "code",
   "execution_count": 18,
   "metadata": {},
   "outputs": [
    {
     "data": {
      "text/plain": [
       "count    13176.000000\n",
       "mean        11.144961\n",
       "std          4.214254\n",
       "min          1.000000\n",
       "25%          8.000000\n",
       "50%         12.000000\n",
       "75%         14.000000\n",
       "max         24.000000\n",
       "Name: text, dtype: float64"
      ]
     },
     "execution_count": 18,
     "metadata": {},
     "output_type": "execute_result"
    }
   ],
   "source": [
    "seq_lengths = X_train.apply(lambda x: len(x.split(' ')))\n",
    "seq_lengths.describe()"
   ]
  },
  {
   "cell_type": "code",
   "execution_count": 19,
   "metadata": {},
   "outputs": [],
   "source": [
    "from keras.preprocessing.sequence import pad_sequences"
   ]
  },
  {
   "cell_type": "code",
   "execution_count": 20,
   "metadata": {},
   "outputs": [],
   "source": [
    "MAX_LEN = 24\n",
    "X_train_seq_trunc = pad_sequences(X_train_seq, maxlen=MAX_LEN)\n",
    "X_test_seq_trunc = pad_sequences(X_test_seq, maxlen=MAX_LEN)"
   ]
  },
  {
   "cell_type": "code",
   "execution_count": 21,
   "metadata": {},
   "outputs": [
    {
     "name": "stdout",
     "output_type": "stream",
     "text": [
      "[286, 87, 2, 2910, 861, 1110, 16, 406, 35, 1, 2911, 4287, 4288, 4289, 2554, 376, 6054] -- is converted to -- [   0    0    0    0    0    0    0  286   87    2 2910  861 1110   16\n",
      "  406   35    1 2911 4287 4288 4289 2554  376 6054]\n"
     ]
    }
   ],
   "source": [
    "print('{} -- is converted to -- {}'.format(X_train_seq[5], X_train_seq_trunc[5]))"
   ]
  },
  {
   "cell_type": "code",
   "execution_count": 22,
   "metadata": {},
   "outputs": [],
   "source": [
    "le = LabelEncoder()\n",
    "y_train_le = le.fit_transform(y_train)\n",
    "y_test_le = le.transform(y_test)\n",
    "y_train_oh = to_categorical(y_train_le)\n",
    "y_test_oh = to_categorical(y_test_le)"
   ]
  },
  {
   "cell_type": "code",
   "execution_count": 23,
   "metadata": {},
   "outputs": [
    {
     "name": "stdout",
     "output_type": "stream",
     "text": [
      "Shape of train set: (11858, 24)\n",
      "Shape of validation set: (1318, 24)\n"
     ]
    }
   ],
   "source": [
    "X_train_emb, X_valid_emb, y_train_emb, y_valid_emb = train_test_split(X_train_seq_trunc, y_train_oh, test_size=0.1, random_state=37)\n",
    "\n",
    "print('Shape of train set:',X_train_emb.shape)\n",
    "print('Shape of validation set:',X_valid_emb.shape)"
   ]
  },
  {
   "cell_type": "markdown",
   "metadata": {},
   "source": [
    "### Training with LSTM"
   ]
  },
  {
   "cell_type": "markdown",
   "metadata": {},
   "source": [
    "The network starts with an embedding layer. The layer lets the system expand each token to a more massive vector, allowing the network to represent a word in a meaningful way. Then will apply an LSTM layer with 64 units. We will also apply dropout to reduce overfitting. The final layer will be a Dense layer with 3 outputs as we have 3 labels in our dataset with softmax activation"
   ]
  },
  {
   "cell_type": "code",
   "execution_count": 24,
   "metadata": {},
   "outputs": [],
   "source": [
    "from keras import models\n",
    "from keras import layers"
   ]
  },
  {
   "cell_type": "code",
   "execution_count": 25,
   "metadata": {},
   "outputs": [],
   "source": [
    "model = models.Sequential()\n",
    "model.add(layers.Embedding(NB_WORDS, 8, input_length=MAX_LEN))\n",
    "model.add(layers.LSTM(64))\n",
    "model.add(layers.Dropout(0.2))\n",
    "model.add(layers.Dense(3, activation='softmax'))\n",
    "model.compile(loss='categorical_crossentropy', optimizer='adam', metrics=['accuracy'])"
   ]
  },
  {
   "cell_type": "code",
   "execution_count": 26,
   "metadata": {},
   "outputs": [
    {
     "name": "stdout",
     "output_type": "stream",
     "text": [
      "Train on 11858 samples, validate on 1318 samples\n",
      "Epoch 1/20\n",
      "11858/11858 [==============================] - 22s 2ms/step - loss: 1.0184 - acc: 0.6093 - val_loss: 0.9028 - val_acc: 0.6426\n",
      "Epoch 2/20\n",
      "11858/11858 [==============================] - 1s 95us/step - loss: 0.9078 - acc: 0.6199 - val_loss: 0.8447 - val_acc: 0.6426\n",
      "Epoch 3/20\n",
      "11858/11858 [==============================] - 1s 95us/step - loss: 0.8087 - acc: 0.6325 - val_loss: 0.7486 - val_acc: 0.6844\n",
      "Epoch 4/20\n",
      "11858/11858 [==============================] - 1s 97us/step - loss: 0.7161 - acc: 0.6691 - val_loss: 0.6839 - val_acc: 0.7003\n",
      "Epoch 5/20\n",
      "11858/11858 [==============================] - 1s 97us/step - loss: 0.6300 - acc: 0.7134 - val_loss: 0.6450 - val_acc: 0.6988\n",
      "Epoch 6/20\n",
      "11858/11858 [==============================] - 1s 97us/step - loss: 0.5625 - acc: 0.7441 - val_loss: 0.6368 - val_acc: 0.7314\n",
      "Epoch 7/20\n",
      "11858/11858 [==============================] - 1s 96us/step - loss: 0.5127 - acc: 0.7692 - val_loss: 0.6228 - val_acc: 0.7261\n",
      "Epoch 8/20\n",
      "11858/11858 [==============================] - 1s 96us/step - loss: 0.4739 - acc: 0.7900 - val_loss: 0.6284 - val_acc: 0.7375\n",
      "Epoch 9/20\n",
      "11858/11858 [==============================] - 1s 96us/step - loss: 0.4354 - acc: 0.8147 - val_loss: 0.6357 - val_acc: 0.7382\n",
      "Epoch 10/20\n",
      "11858/11858 [==============================] - 1s 96us/step - loss: 0.3920 - acc: 0.8399 - val_loss: 0.6654 - val_acc: 0.7496\n",
      "Epoch 11/20\n",
      "11858/11858 [==============================] - 1s 95us/step - loss: 0.3599 - acc: 0.8617 - val_loss: 0.6771 - val_acc: 0.7572\n",
      "Epoch 12/20\n",
      "11858/11858 [==============================] - 1s 96us/step - loss: 0.3139 - acc: 0.8828 - val_loss: 0.6569 - val_acc: 0.7709\n",
      "Epoch 13/20\n",
      "11858/11858 [==============================] - 1s 96us/step - loss: 0.2749 - acc: 0.9015 - val_loss: 0.7284 - val_acc: 0.7785\n",
      "Epoch 14/20\n",
      "11858/11858 [==============================] - 1s 96us/step - loss: 0.2532 - acc: 0.9107 - val_loss: 0.7815 - val_acc: 0.7777\n",
      "Epoch 15/20\n",
      "11858/11858 [==============================] - 1s 96us/step - loss: 0.2262 - acc: 0.9214 - val_loss: 0.7449 - val_acc: 0.7769\n",
      "Epoch 16/20\n",
      "11858/11858 [==============================] - 1s 95us/step - loss: 0.2086 - acc: 0.9265 - val_loss: 0.8239 - val_acc: 0.7777\n",
      "Epoch 17/20\n",
      "11858/11858 [==============================] - 1s 96us/step - loss: 0.1896 - acc: 0.9327 - val_loss: 0.8784 - val_acc: 0.7747\n",
      "Epoch 18/20\n",
      "11858/11858 [==============================] - 1s 96us/step - loss: 0.1770 - acc: 0.9396 - val_loss: 0.8579 - val_acc: 0.7769\n",
      "Epoch 19/20\n",
      "11858/11858 [==============================] - 1s 96us/step - loss: 0.1631 - acc: 0.9426 - val_loss: 1.1302 - val_acc: 0.7663\n",
      "Epoch 20/20\n",
      "11858/11858 [==============================] - 1s 97us/step - loss: 0.1634 - acc: 0.9421 - val_loss: 1.0229 - val_acc: 0.7747\n"
     ]
    }
   ],
   "source": [
    "history = model.fit(X_train_emb, y_train_emb, epochs=EPOCHS, batch_size=BATCH_SIZE, validation_data=(X_valid_emb, y_valid_emb))"
   ]
  },
  {
   "cell_type": "markdown",
   "metadata": {},
   "source": [
    "As you see the model trains fine but it starts overfitting on the training set. The below loss curve depicts this trend"
   ]
  },
  {
   "cell_type": "code",
   "execution_count": 27,
   "metadata": {},
   "outputs": [],
   "source": [
    "def plot(history, metric_name):\n",
    "    metric = history.history[metric_name]\n",
    "    val_metric = history.history['val_' + metric_name]\n",
    "\n",
    "    e = range(1, EPOCHS + 1)\n",
    "\n",
    "    plt.plot(e, metric, 'ro', label='Training ' + metric_name)\n",
    "    plt.plot(e, val_metric, 'r', label='Validation ' + metric_name)\n",
    "    plt.legend()\n",
    "    plt.show()"
   ]
  },
  {
   "cell_type": "code",
   "execution_count": 28,
   "metadata": {},
   "outputs": [
    {
     "data": {
      "image/png": "[encoded data removed]",
      "text/plain": [
       "<Figure size 432x288 with 1 Axes>"
      ]
     },
     "metadata": {},
     "output_type": "display_data"
    }
   ],
   "source": [
    "plot(history, 'loss')"
   ]
  },
  {
   "cell_type": "code",
   "execution_count": 29,
   "metadata": {},
   "outputs": [
    {
     "data": {
      "image/png": "[encoded data removed]",
      "text/plain": [
       "<Figure size 432x288 with 1 Axes>"
      ]
     },
     "metadata": {},
     "output_type": "display_data"
    }
   ],
   "source": [
    "plot(history, 'acc')"
   ]
  },
  {
   "cell_type": "code",
   "execution_count": 30,
   "metadata": {},
   "outputs": [
    {
     "name": "stdout",
     "output_type": "stream",
     "text": [
      "1464/1464 [==============================] - 0s 341us/step\n"
     ]
    }
   ],
   "source": [
    "test_model = model.evaluate(X_test_seq_trunc, y_test_oh)"
   ]
  },
  {
   "cell_type": "code",
   "execution_count": 31,
   "metadata": {},
   "outputs": [
    {
     "name": "stdout",
     "output_type": "stream",
     "text": [
      "Test accuracy is 79.17%\n"
     ]
    }
   ],
   "source": [
    "print('Test accuracy is {0:.2f}%'.format(test_model[1] * 100))"
   ]
  },
  {
   "cell_type": "markdown",
   "metadata": {},
   "source": [
    "### Use pre-trained Glove word embeddings"
   ]
  },
  {
   "cell_type": "markdown",
   "metadata": {},
   "source": [
    "In this subsection, I want to use word embeddings from pre-trained Glove. It was trained on a dataset of one billion tokens (words) with a vocabulary of 400 thousand words. The glove has embedding vector sizes, including 50, 100, 200 and 300 dimensions. I chose the 100-dimensional version. The trained model can be downloaded from [here](https://nlp.stanford.edu/projects/glove/)\n"
   ]
  },
  {
   "cell_type": "code",
   "execution_count": 32,
   "metadata": {},
   "outputs": [
    {
     "name": "stdout",
     "output_type": "stream",
     "text": [
      "Found 400001 word vectors.\n"
     ]
    }
   ],
   "source": [
    "embeddings_index = {}\n",
    "f = open('glove.6B.100d.txt')\n",
    "for line in f:\n",
    "    values = line.split()\n",
    "    word = values[0]\n",
    "    coefs = np.asarray(values[1:], dtype='float32')\n",
    "    embeddings_index[word] = coefs\n",
    "f.close()\n",
    "\n",
    "print('Found %s word vectors.' % len(embeddings_index))"
   ]
  },
  {
   "cell_type": "code",
   "execution_count": 33,
   "metadata": {},
   "outputs": [],
   "source": [
    "embedding_matrix = np.zeros((len(word_index) + 1, 100))\n",
    "for word, i in word_index.items():\n",
    "    embedding_vector = embeddings_index.get(word)\n",
    "    if embedding_vector is not None:\n",
    "        # words not found in embedding index will be all-zeros.\n",
    "        embedding_matrix[i] = embedding_vector"
   ]
  },
  {
   "cell_type": "code",
   "execution_count": 45,
   "metadata": {},
   "outputs": [
    {
     "name": "stdout",
     "output_type": "stream",
     "text": [
      "_________________________________________________________________\n",
      "Layer (type)                 Output Shape              Param #   \n",
      "=================================================================\n",
      "embedding_6 (Embedding)      (None, 24, 100)           1397500   \n",
      "_________________________________________________________________\n",
      "lstm_5 (LSTM)                (None, 400)               801600    \n",
      "_________________________________________________________________\n",
      "dropout_5 (Dropout)          (None, 400)               0         \n",
      "_________________________________________________________________\n",
      "dense_5 (Dense)              (None, 3)                 1203      \n",
      "=================================================================\n",
      "Total params: 2,200,303\n",
      "Trainable params: 802,803\n",
      "Non-trainable params: 1,397,500\n",
      "_________________________________________________________________\n"
     ]
    }
   ],
   "source": [
    "glove_model = models.Sequential()\n",
    "glove_model.add(layers.Embedding(len(word_index) + 1, 100, input_length=MAX_LEN, weights=[embedding_matrix],trainable=False))\n",
    "glove_model.add(layers.LSTM(400))\n",
    "glove_model.add(layers.Dropout(0.2))\n",
    "glove_model.add(layers.Dense(3, activation='softmax'))\n",
    "glove_model.compile(loss='categorical_crossentropy', optimizer='adam', metrics=['accuracy'])\n",
    "glove_model.summary()"
   ]
  },
  {
   "cell_type": "code",
   "execution_count": 46,
   "metadata": {},
   "outputs": [
    {
     "name": "stdout",
     "output_type": "stream",
     "text": [
      "Train on 11858 samples, validate on 1318 samples\n",
      "Epoch 1/20\n",
      "11858/11858 [==============================] - 1s 123us/step - loss: 0.0379 - acc: 0.9877 - val_loss: 1.5957 - val_acc: 0.7443\n",
      "Epoch 2/20\n",
      "11858/11858 [==============================] - 1s 98us/step - loss: 0.0434 - acc: 0.9870 - val_loss: 1.7248 - val_acc: 0.7428\n",
      "Epoch 3/20\n",
      "11858/11858 [==============================] - 1s 96us/step - loss: 0.0418 - acc: 0.9865 - val_loss: 1.6789 - val_acc: 0.7451\n",
      "Epoch 4/20\n",
      "11858/11858 [==============================] - 1s 95us/step - loss: 0.0394 - acc: 0.9875 - val_loss: 1.6793 - val_acc: 0.7443\n",
      "Epoch 5/20\n",
      "11858/11858 [==============================] - 1s 96us/step - loss: 0.0362 - acc: 0.9883 - val_loss: 1.7074 - val_acc: 0.7420\n",
      "Epoch 6/20\n",
      "11858/11858 [==============================] - 1s 96us/step - loss: 0.0339 - acc: 0.9895 - val_loss: 1.7654 - val_acc: 0.7360\n",
      "Epoch 7/20\n",
      "11858/11858 [==============================] - 1s 96us/step - loss: 0.0328 - acc: 0.9893 - val_loss: 1.8473 - val_acc: 0.7375\n",
      "Epoch 8/20\n",
      "11858/11858 [==============================] - 1s 96us/step - loss: 0.0329 - acc: 0.9899 - val_loss: 1.9722 - val_acc: 0.7352\n",
      "Epoch 9/20\n",
      "11858/11858 [==============================] - 1s 96us/step - loss: 0.0332 - acc: 0.9900 - val_loss: 1.8911 - val_acc: 0.7360\n",
      "Epoch 10/20\n",
      "11858/11858 [==============================] - 1s 97us/step - loss: 0.0311 - acc: 0.9895 - val_loss: 1.8917 - val_acc: 0.7405\n",
      "Epoch 11/20\n",
      "11858/11858 [==============================] - 1s 97us/step - loss: 0.0349 - acc: 0.9895 - val_loss: 1.9166 - val_acc: 0.7352\n",
      "Epoch 12/20\n",
      "11858/11858 [==============================] - 1s 97us/step - loss: 0.0338 - acc: 0.9896 - val_loss: 1.9321 - val_acc: 0.7367\n",
      "Epoch 13/20\n",
      "11858/11858 [==============================] - 1s 96us/step - loss: 0.0303 - acc: 0.9905 - val_loss: 2.0015 - val_acc: 0.7352\n",
      "Epoch 14/20\n",
      "11858/11858 [==============================] - 1s 96us/step - loss: 0.0325 - acc: 0.9901 - val_loss: 1.8617 - val_acc: 0.7413\n",
      "Epoch 15/20\n",
      "11858/11858 [==============================] - 1s 97us/step - loss: 0.0298 - acc: 0.9911 - val_loss: 1.9270 - val_acc: 0.7299\n",
      "Epoch 16/20\n",
      "11858/11858 [==============================] - 1s 97us/step - loss: 0.0291 - acc: 0.9909 - val_loss: 1.8775 - val_acc: 0.7390\n",
      "Epoch 17/20\n",
      "11858/11858 [==============================] - 1s 97us/step - loss: 0.0275 - acc: 0.9913 - val_loss: 1.9199 - val_acc: 0.7398\n",
      "Epoch 18/20\n",
      "11858/11858 [==============================] - 1s 97us/step - loss: 0.0278 - acc: 0.9911 - val_loss: 1.9602 - val_acc: 0.7420\n",
      "Epoch 19/20\n",
      "11858/11858 [==============================] - 1s 96us/step - loss: 0.0318 - acc: 0.9896 - val_loss: 2.1537 - val_acc: 0.7322\n",
      "Epoch 20/20\n",
      "11858/11858 [==============================] - 1s 97us/step - loss: 0.0296 - acc: 0.9902 - val_loss: 1.9644 - val_acc: 0.7443\n"
     ]
    }
   ],
   "source": [
    "glove_history = model.fit(X_train_emb, y_train_emb, epochs=EPOCHS, batch_size=BATCH_SIZE, \n",
    "                          validation_data=(X_valid_emb, y_valid_emb))"
   ]
  },
  {
   "cell_type": "markdown",
   "metadata": {},
   "source": [
    "If you see, model is heavily overfitted hence we have very high training accuracy but very poor validation accuracy."
   ]
  },
  {
   "cell_type": "code",
   "execution_count": 47,
   "metadata": {},
   "outputs": [
    {
     "data": {
      "image/png": "[encoded data removed]",
      "text/plain": [
       "<Figure size 432x288 with 1 Axes>"
      ]
     },
     "metadata": {},
     "output_type": "display_data"
    }
   ],
   "source": [
    "plot(glove_history, 'loss')"
   ]
  },
  {
   "cell_type": "code",
   "execution_count": 48,
   "metadata": {},
   "outputs": [
    {
     "data": {
      "image/png": "[encoded data removed]",
      "text/plain": [
       "<Figure size 432x288 with 1 Axes>"
      ]
     },
     "metadata": {},
     "output_type": "display_data"
    }
   ],
   "source": [
    "plot(glove_history, 'acc')"
   ]
  },
  {
   "cell_type": "code",
   "execution_count": 43,
   "metadata": {},
   "outputs": [
    {
     "name": "stdout",
     "output_type": "stream",
     "text": [
      "1464/1464 [==============================] - 1s 485us/step\n"
     ]
    }
   ],
   "source": [
    "test_model = glove_model.evaluate(X_test_seq_trunc, y_test_oh)"
   ]
  },
  {
   "cell_type": "code",
   "execution_count": 44,
   "metadata": {},
   "outputs": [
    {
     "name": "stdout",
     "output_type": "stream",
     "text": [
      "Test accuracy is 21.58%\n"
     ]
    }
   ],
   "source": [
    "print('Test accuracy is {0:.2f}%'.format(test_model[1] * 100))"
   ]
  },
  {
   "cell_type": "code",
   "execution_count": null,
   "metadata": {},
   "outputs": [],
   "source": []
  }
 ],
 "metadata": {
  "kernelspec": {
   "display_name": "Python 3",
   "language": "python",
   "name": "python3"
  },
  "language_info": {
   "codemirror_mode": {
    "name": "ipython",
    "version": 3
   },
   "file_extension": ".py",
   "mimetype": "text/x-python",
   "name": "python",
   "nbconvert_exporter": "python",
   "pygments_lexer": "ipython3",
   "version": "3.5.2"
  }
 },
 "nbformat": 4,
 "nbformat_minor": 2
}
